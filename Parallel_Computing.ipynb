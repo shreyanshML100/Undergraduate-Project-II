{
  "nbformat": 4,
  "nbformat_minor": 0,
  "metadata": {
    "colab": {
      "provenance": [],
      "authorship_tag": "ABX9TyPhLTBsLufijrSt79nlXpTq",
      "include_colab_link": true
    },
    "kernelspec": {
      "name": "python3",
      "display_name": "Python 3"
    },
    "language_info": {
      "name": "python"
    },
    "gpuClass": "standard"
  },
  "cells": [
    {
      "cell_type": "markdown",
      "metadata": {
        "id": "view-in-github",
        "colab_type": "text"
      },
      "source": [
        "<a href=\"https://colab.research.google.com/github/shreyanshML100/Undergraduate-Project-II/blob/main/Parallel_Computing.ipynb\" target=\"_parent\"><img src=\"https://colab.research.google.com/assets/colab-badge.svg\" alt=\"Open In Colab\"/></a>"
      ]
    },
    {
      "cell_type": "code",
      "execution_count": null,
      "metadata": {
        "colab": {
          "base_uri": "https://localhost:8080/"
        },
        "id": "M-Yku8vqlfO9",
        "outputId": "4dcea1e6-417d-4aef-d7f8-8606d78a95ae"
      },
      "outputs": [
        {
          "output_type": "stream",
          "name": "stdout",
          "text": [
            "Collecting git+https://github.com/andreinechaev/nvcc4jupyter.git\n",
            "  Cloning https://github.com/andreinechaev/nvcc4jupyter.git to /tmp/pip-req-build-vhlf8ups\n",
            "  Running command git clone --filter=blob:none --quiet https://github.com/andreinechaev/nvcc4jupyter.git /tmp/pip-req-build-vhlf8ups\n",
            "  Resolved https://github.com/andreinechaev/nvcc4jupyter.git to commit 0d2ab99cccbbc682722e708515fe9c4cfc50185a\n",
            "  Preparing metadata (setup.py) ... \u001b[?25l\u001b[?25hdone\n",
            "Building wheels for collected packages: NVCCPlugin\n",
            "  Building wheel for NVCCPlugin (setup.py) ... \u001b[?25l\u001b[?25hdone\n",
            "  Created wheel for NVCCPlugin: filename=NVCCPlugin-0.0.2-py3-none-any.whl size=4716 sha256=6071fa22c07928457ce8b8e82ad7347b48519e2a67c240bb98e98473cdb24472\n",
            "  Stored in directory: /tmp/pip-ephem-wheel-cache-nm9yipfb/wheels/a8/b9/18/23f8ef71ceb0f63297dd1903aedd067e6243a68ea756d6feea\n",
            "Successfully built NVCCPlugin\n",
            "Installing collected packages: NVCCPlugin\n",
            "Successfully installed NVCCPlugin-0.0.2\n",
            "created output directory at /content/src\n",
            "Out bin /content/result.out\n"
          ]
        }
      ],
      "source": [
        "!pip install git+https://github.com/andreinechaev/nvcc4jupyter.git\n",
        "%load_ext nvcc_plugin"
      ]
    },
    {
      "cell_type": "markdown",
      "source": [
        "The following Code Implements Parallel Computing to Speed-Up the simulation which simulates the Translatory Motion of a large number of Spherical Particles moving with random velocities."
      ],
      "metadata": {
        "id": "4hja-Tc_LVSw"
      }
    },
    {
      "cell_type": "code",
      "source": [
        "%%cu\n",
        "#include <iostream>\n",
        "#include <cmath>\n",
        "#include <sys/time.h>\n",
        "#include <stdlib.h>\n",
        "\n",
        "using namespace std ;\n",
        "\n",
        "int N=1000000;\n",
        "float x0[1000000], v0[1000000], a0[1000000];\n",
        "float dt=1;\n",
        "\n",
        "\n",
        "double cpuSec()\n",
        "{\n",
        "    struct timeval tp;\n",
        "    gettimeofday(&tp, NULL);\n",
        "    return((double)tp.tv_sec+(double)tp.tv_usec*1.e-6);\n",
        "}\n",
        "\n",
        "\n",
        "void assignInit()\n",
        "{\n",
        "    int i;\n",
        "    for(i=0;i<N;i++)\n",
        "    {\n",
        "        x0[i] = 0;\n",
        "        v0[i] = 0.1+0.9*rand();\n",
        "        a0[i] = 1+9*rand();\n",
        "    }\n",
        "}\n",
        "\n",
        "\n",
        "void operateCPU()\n",
        "{\n",
        "    for (int j=1;j<=1000;j++)\n",
        "    {\n",
        "      for(int i=1;i<N;i++)\n",
        "      {\n",
        "        x0[i] = x0[i]+v0[i]*dt+0.5*a0[i]*dt*dt;\n",
        "        v0[i] = v0[i]+a0[i]*dt;\n",
        "      }\n",
        "    }\n",
        "}\n",
        "\n",
        "\n",
        "__global__ void operateGPU(float* d_x, float* d_v, float* d_a)\n",
        "{\n",
        "    int i = threadIdx.x;\n",
        "    float dt=1;\n",
        "    for(int j=1;j<=1000;j++)\n",
        "    {\n",
        "      d_x[i] = d_x[i]+d_v[i]*dt+0.5*d_a[i]*dt*dt;\n",
        "      d_v[i] = d_v[i] + d_a[i]*dt;\n",
        "    }\n",
        "}\n",
        "\n",
        "\n",
        "int main()\n",
        "{\n",
        "    double istart = cpuSec();\n",
        "    assignInit();\n",
        "    double iElaps1 = cpuSec() - istart;\n",
        "\n",
        "\n",
        "    istart = cpuSec();\n",
        "    operateCPU();\n",
        "    double iElaps2 = cpuSec() - istart;\n",
        "\n",
        "    cout<<iElaps1<<\"\\n\";\n",
        "    cout<<\"Time taken to operate on CPU: \"<<iElaps2<<\"\\n\";\n",
        "\n",
        "    assignInit();\n",
        "\n",
        "    float *d_x, *d_v, *d_a;\n",
        "    int size = sizeof(int)*N;\n",
        "\n",
        "    cudaMalloc((float **)&d_x, size);\n",
        "    cudaMalloc((float **)&d_v, size);\n",
        "    cudaMalloc((float **)&d_a, size);\n",
        "\n",
        "    cudaMemcpy(d_x, x0, size, cudaMemcpyHostToDevice);\n",
        "    cudaMemcpy(d_v, v0, size, cudaMemcpyHostToDevice);\n",
        "    cudaMemcpy(d_a, a0, size, cudaMemcpyHostToDevice);\n",
        "\n",
        "    istart = cpuSec();\n",
        "    operateGPU <<<1000,N/1000>>>(d_x, d_v, d_a);         // 1 Block, N threads per Block\n",
        "    cudaDeviceSynchronize();\n",
        "    double iElaps3 = cpuSec() - istart;\n",
        "    cout<<\"Time taken to operate on GPU: \"<<iElaps3<<\"\\n\";\n",
        "\n",
        "    float s = iElaps2/iElaps3;\n",
        "    cout<<\"Speed Up = \"<<s<<\"\\n\";\n",
        "    //cout<<\"Efficiency = \"<<s*100/N<<\"%\\n\";\n",
        "\n",
        "    cudaMemcpy(x0, d_x, size, cudaMemcpyDeviceToHost);\n",
        "    cudaMemcpy(v0, d_v, size, cudaMemcpyDeviceToHost);\n",
        "\n",
        "    cudaFree(d_x);\n",
        "    cudaFree(d_v);\n",
        "    cudaFree(d_a);\n",
        "\n",
        "    return 0;\n",
        "}\n"
      ],
      "metadata": {
        "colab": {
          "base_uri": "https://localhost:8080/"
        },
        "id": "gKoofb0smTl5",
        "outputId": "7f216a01-a395-4e14-f30a-37b6861f8b63"
      },
      "execution_count": null,
      "outputs": [
        {
          "output_type": "stream",
          "name": "stdout",
          "text": [
            "0.0602989\n",
            "Time taken to operate on CPU: 6.39877\n",
            "Time taken to operate on GPU: 9.05991e-06\n",
            "Speed Up = 706274\n",
            "\n"
          ]
        }
      ]
    },
    {
      "cell_type": "code",
      "source": [],
      "metadata": {
        "id": "5SECiPAcxpS3"
      },
      "execution_count": null,
      "outputs": []
    }
  ]
}